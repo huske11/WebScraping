{
  "nbformat": 4,
  "nbformat_minor": 0,
  "metadata": {
    "colab": {
      "provenance": []
    },
    "kernelspec": {
      "name": "python3",
      "display_name": "Python 3"
    },
    "language_info": {
      "name": "python"
    }
  },
  "cells": [
    {
      "cell_type": "markdown",
      "source": [
        "# Задание 1. парсинг GitHub"
      ],
      "metadata": {
        "id": "spNyRdAl7sRX"
      }
    },
    {
      "cell_type": "code",
      "execution_count": null,
      "metadata": {
        "id": "5UahX8-sxAi7"
      },
      "outputs": [],
      "source": [
        "import requests\n",
        "import json\n",
        "import pandas as pd"
      ]
    },
    {
      "cell_type": "code",
      "source": [
        "from datetime import datetime"
      ],
      "metadata": {
        "id": "t7WtQaxky3X6"
      },
      "execution_count": null,
      "outputs": []
    },
    {
      "cell_type": "code",
      "source": [
        "url = \"https://api.github.com\"\n",
        "user = \"huske11\"\n",
        "ep = f\"/users/{user}/repos\"\n",
        "\n",
        "# Беру свой аккаунт как пользователя с которым буду работать и EndPoint для получения репозиториев"
      ],
      "metadata": {
        "id": "aE6OtDkJy35e"
      },
      "execution_count": null,
      "outputs": []
    },
    {
      "cell_type": "code",
      "source": [
        "print(f\"Пользователь: {user}\")\n",
        "print(f\"Endpoint: {url}{ep}\")"
      ],
      "metadata": {
        "colab": {
          "base_uri": "https://localhost:8080/"
        },
        "id": "BxWF2MvPzO0r",
        "outputId": "bf0377d4-ad89-496f-a08d-e64dc7a4a066"
      },
      "execution_count": null,
      "outputs": [
        {
          "output_type": "stream",
          "name": "stdout",
          "text": [
            "Пользователь: huske11\n",
            "Endpoint: https://api.github.com/users/huske11/repos\n"
          ]
        }
      ]
    },
    {
      "cell_type": "code",
      "source": [
        "# Функция для получения данных от GitHub API\n",
        "def get_user_repositories(username):\n",
        "    # Полный URL для запроса\n",
        "    url = f\"https://api.github.com/users/{user}/repos\"\n",
        "\n",
        "    # Параметры запроса\n",
        "    params = {\n",
        "        'per_page': 100,\n",
        "        'sort': 'updated'\n",
        "    }\n",
        "\n",
        "    try:\n",
        "        # Выполняем GET-запрос к GitHub API\n",
        "        response = requests.get(\n",
        "            url,\n",
        "            params=params,\n",
        "            headers={'Accept': 'application/vnd.github.v3+json'}\n",
        "        )\n",
        "\n",
        "        if response.status_code == 200:\n",
        "            repositories = response.json()\n",
        "            return repositories\n",
        "        else:\n",
        "            return None\n",
        "\n",
        "    except:\n",
        "        return None\n",
        "\n",
        "user = \"huske11\"\n",
        "repositories_data = get_user_repositories(user)\n",
        "\n",
        "if repositories_data:\n",
        "    print(f\"Количество репозиториев: {len(repositories_data)}\")"
      ],
      "metadata": {
        "colab": {
          "base_uri": "https://localhost:8080/"
        },
        "id": "jUYfJVgDzZJi",
        "outputId": "02929559-20ae-4f21-f3bd-b0ca4d7bd03f"
      },
      "execution_count": null,
      "outputs": [
        {
          "output_type": "stream",
          "name": "stdout",
          "text": [
            "Количество репозиториев: 3\n"
          ]
        }
      ]
    },
    {
      "cell_type": "code",
      "source": [
        "if repositories_data:\n",
        "    for repo in repositories_data:\n",
        "        print(f\"{repo['name']} - https://github.com/huske11/{repo['name']}\")"
      ],
      "metadata": {
        "colab": {
          "base_uri": "https://localhost:8080/"
        },
        "id": "_kV3sgSM4x7w",
        "outputId": "fa3fa507-ded3-45c3-fc4c-7f4a7f37a81e"
      },
      "execution_count": null,
      "outputs": [
        {
          "output_type": "stream",
          "name": "stdout",
          "text": [
            "comp_vision - https://github.com/huske11/comp_vision\n",
            "TimeSeries - https://github.com/huske11/TimeSeries\n",
            "DataMining - https://github.com/huske11/DataMining\n"
          ]
        }
      ]
    },
    {
      "cell_type": "code",
      "source": [
        "if repositories_data:\n",
        "    with open('myrepos.json', 'w', encoding='utf-8') as f:\n",
        "        json.dump(repositories_data, f, ensure_ascii=False, indent=2)\n",
        "    print(\"Файл сохранен\")"
      ],
      "metadata": {
        "colab": {
          "base_uri": "https://localhost:8080/"
        },
        "id": "IVobomJ539Uc",
        "outputId": "a56beb53-8b47-41fe-cfb5-31762492a694"
      },
      "execution_count": null,
      "outputs": [
        {
          "output_type": "stream",
          "name": "stdout",
          "text": [
            "Файл сохранен\n"
          ]
        }
      ]
    },
    {
      "cell_type": "markdown",
      "source": [
        "# Задание 2. Telegram"
      ],
      "metadata": {
        "id": "mOP4Hz7S7xGm"
      }
    },
    {
      "cell_type": "code",
      "source": [
        "!pip install telethon"
      ],
      "metadata": {
        "colab": {
          "base_uri": "https://localhost:8080/"
        },
        "id": "W3tb49E270N4",
        "outputId": "040adec2-af51-4907-f4e0-d21b4bd6ead0"
      },
      "execution_count": null,
      "outputs": [
        {
          "output_type": "stream",
          "name": "stdout",
          "text": [
            "Requirement already satisfied: telethon in /usr/local/lib/python3.12/dist-packages (1.41.2)\n",
            "Requirement already satisfied: pyaes in /usr/local/lib/python3.12/dist-packages (from telethon) (1.6.1)\n",
            "Requirement already satisfied: rsa in /usr/local/lib/python3.12/dist-packages (from telethon) (4.9.1)\n",
            "Requirement already satisfied: pyasn1>=0.1.3 in /usr/local/lib/python3.12/dist-packages (from rsa->telethon) (0.6.1)\n"
          ]
        }
      ]
    },
    {
      "cell_type": "code",
      "source": [
        "from telethon import TelegramClient\n",
        "\n",
        "API_ID = '********'\n",
        "API_HASH = '***************************'\n",
        "PHONE_NUMBER = '***********'\n",
        "\n",
        "#Лабораторная сдана на уроке и в рабочем состоянии. Данные стерты для безопасности!"
      ],
      "metadata": {
        "id": "Ub8k0hs-Lb-c"
      },
      "execution_count": null,
      "outputs": []
    },
    {
      "cell_type": "code",
      "source": [
        "async def get_chat_messages():\n",
        "    client = TelegramClient('session', API_ID, API_HASH)\n",
        "    await client.start(PHONE_NUMBER)\n",
        "\n",
        "    chat = await client.get_entity(\"https://t.me/**************\") #Ссылка скрыта в целях безопасности\n",
        "\n",
        "    messages = await client.get_messages(chat, limit=20)\n",
        "\n",
        "    for message in messages:\n",
        "        print(message.text)\n",
        "\n",
        "    await client.disconnect()\n",
        "\n",
        "import nest_asyncio\n",
        "nest_asyncio.apply()\n",
        "\n",
        "await get_chat_messages()\n",
        "\n",
        "#За содержимое чата ответственности не несу! Он не цензурит!!!!"
      ],
      "metadata": {
        "colab": {
          "base_uri": "https://localhost:8080/"
        },
        "id": "06Q7C3zHLeSR",
        "outputId": "5764cb44-11f4-4ed4-e95d-2ae153fff9ac"
      },
      "execution_count": null,
      "outputs": [
        {
          "output_type": "stream",
          "name": "stdout",
          "text": [
            "Please enter the code you received: 21331\n",
            "Please enter your password: ··········\n",
            "Signed in successfully as Arleckin Huskell; remember to not break the ToS or you will risk an account ban!\n",
            "Пока никого.\n",
            "А на Касси мы кого возьмём\n",
            "Конеш. Эта беседа нам уже не понадобится.\n",
            "Ебашь.\n",
            "\n",
            "\n",
            "\n",
            "\n",
            "🐝РОЗЫГРЫШ🐝\n",
            "😳**Воздушная сияющая Аглая с заколками, которая украсит любой каноничный и оригинальный образ персонажа\n",
            "\n",
            "**🐝🐝🐝🐝🐝🐝🐝🐝🐝\n",
            "🐝**Параметры**: на обхват головы от 55 до 57см \n",
            "Заколки входят в комплект \n",
            "\n",
            "🐝**Условия розыгрыша: **\n",
            "📌Быть подписанным на канал \n",
            "📌Любой коммент под этим постом\n",
            "📌Репост в свой канал или публичный чат с количеством 5 и более человек. Канал или чат должны быть открытыми. \n",
            "\n",
            "Номера писать не надо, выбирать будет рандомазер на основе наличия комментария, подписки и репоста) \n",
            "\n",
            "🐝**Окончание розыгрыша: **\n",
            "**8 ОКТЯБРЯ**. Результаты будут готовы с 20 до 21 по МСК \n",
            "\n",
            "🐝**Условия получения: **\n",
            "По МСК - передача лично от метро Зюзино или курьером по городу. Курьер за счет получателя. \n",
            "\n",
            "По РФ - пересыл Почтой России. НЕ ОТПРАВЛЯЮ Авито/Сдеком и другими службами доставки. Пересыл за счет получателя.\n",
            "Чисто я: А вдруг выиграю?\n",
            "Туда кидать?\n",
            "У нас амфорик есть в форуме косбенда.\n",
            "\n",
            "\n",
            "None\n",
            "\n",
            "Жалко, но желаю удачки тебе с проектами!\n",
            "Эх. Ну ладно. Значит в другой раз как-нибудь. 😭\n",
            "Увы\n",
            "Эх. Ну ладно. Жалко конечно. 🥲\n"
          ]
        }
      ]
    },
    {
      "cell_type": "code",
      "source": [
        "async def get_channel_posts():\n",
        "    client = TelegramClient('session_channel', API_ID, API_HASH)\n",
        "    await client.start(PHONE_NUMBER)\n",
        "\n",
        "    channel = await client.get_entity(\"https://t.me/anicomix24\")\n",
        "\n",
        "    print(f\"Канал: {channel.title}\\n\")\n",
        "\n",
        "    messages = await client.get_messages(channel, limit=10)\n",
        "\n",
        "    for i, message in enumerate(messages, 1):\n",
        "        print(f\"{message.date.strftime('%d.%m.%Y %H:%M')}\")\n",
        "        print(f\"Просмотры: {getattr(message, 'views', 'Нет данных')}\")\n",
        "        print(f\"Реакции: {getattr(message, 'reactions', 'Нет данных')}\")\n",
        "        print(\"-\" * 50)\n",
        "\n",
        "    await client.disconnect()\n",
        "\n",
        "await get_channel_posts()"
      ],
      "metadata": {
        "colab": {
          "base_uri": "https://localhost:8080/"
        },
        "id": "QbktjLsfLn_o",
        "outputId": "a03ed93c-85cd-4988-8a28-175c17c43012"
      },
      "execution_count": null,
      "outputs": [
        {
          "output_type": "stream",
          "name": "stdout",
          "text": [
            "Please enter the code you received: 90288\n",
            "Please enter your password: ··········\n",
            "Signed in successfully as Arleckin Huskell; remember to not break the ToS or you will risk an account ban!\n",
            "Канал: Культурный магазин АНИКОМИКС\n",
            "\n",
            "14.10.2025 09:43\n",
            "Просмотры: 57\n",
            "Реакции: MessageReactions(results=[ReactionCount(reaction=ReactionEmoji(emoticon='👍'), count=6, chosen_order=None), ReactionCount(reaction=ReactionEmoji(emoticon='❤'), count=3, chosen_order=None), ReactionCount(reaction=ReactionEmoji(emoticon='🔥'), count=3, chosen_order=None)], min=False, can_see_list=False, reactions_as_tags=False, recent_reactions=[], top_reactors=[])\n",
            "--------------------------------------------------\n",
            "14.10.2025 07:14\n",
            "Просмотры: 64\n",
            "Реакции: None\n",
            "--------------------------------------------------\n",
            "14.10.2025 07:14\n",
            "Просмотры: 62\n",
            "Реакции: MessageReactions(results=[ReactionCount(reaction=ReactionEmoji(emoticon='👍'), count=9, chosen_order=None), ReactionCount(reaction=ReactionEmoji(emoticon='❤'), count=4, chosen_order=None), ReactionCount(reaction=ReactionEmoji(emoticon='🔥'), count=2, chosen_order=None), ReactionCount(reaction=ReactionEmoji(emoticon='🫡'), count=1, chosen_order=None)], min=False, can_see_list=False, reactions_as_tags=False, recent_reactions=[], top_reactors=[])\n",
            "--------------------------------------------------\n",
            "13.10.2025 13:34\n",
            "Просмотры: 66\n",
            "Реакции: MessageReactions(results=[ReactionCount(reaction=ReactionEmoji(emoticon='❤\\u200d🔥'), count=6, chosen_order=None), ReactionCount(reaction=ReactionEmoji(emoticon='👍'), count=3, chosen_order=None), ReactionCount(reaction=ReactionEmoji(emoticon='🔥'), count=2, chosen_order=None)], min=False, can_see_list=False, reactions_as_tags=False, recent_reactions=[], top_reactors=[])\n",
            "--------------------------------------------------\n",
            "13.10.2025 08:54\n",
            "Просмотры: 70\n",
            "Реакции: MessageReactions(results=[ReactionCount(reaction=ReactionEmoji(emoticon='❤'), count=6, chosen_order=None), ReactionCount(reaction=ReactionEmoji(emoticon='👍'), count=3, chosen_order=None), ReactionCount(reaction=ReactionEmoji(emoticon='🔥'), count=2, chosen_order=None)], min=False, can_see_list=False, reactions_as_tags=False, recent_reactions=[], top_reactors=[])\n",
            "--------------------------------------------------\n",
            "12.10.2025 09:19\n",
            "Просмотры: 74\n",
            "Реакции: MessageReactions(results=[ReactionCount(reaction=ReactionEmoji(emoticon='❤'), count=7, chosen_order=None), ReactionCount(reaction=ReactionEmoji(emoticon='👍'), count=2, chosen_order=None), ReactionCount(reaction=ReactionEmoji(emoticon='🔥'), count=2, chosen_order=None)], min=False, can_see_list=False, reactions_as_tags=False, recent_reactions=[], top_reactors=[])\n",
            "--------------------------------------------------\n",
            "11.10.2025 10:29\n",
            "Просмотры: 77\n",
            "Реакции: MessageReactions(results=[ReactionCount(reaction=ReactionEmoji(emoticon='❤'), count=6, chosen_order=None), ReactionCount(reaction=ReactionEmoji(emoticon='👍'), count=2, chosen_order=None), ReactionCount(reaction=ReactionEmoji(emoticon='🔥'), count=2, chosen_order=None)], min=False, can_see_list=False, reactions_as_tags=False, recent_reactions=[], top_reactors=[])\n",
            "--------------------------------------------------\n",
            "10.10.2025 09:44\n",
            "Просмотры: 98\n",
            "Реакции: MessageReactions(results=[ReactionCount(reaction=ReactionEmoji(emoticon='❤'), count=5, chosen_order=None), ReactionCount(reaction=ReactionEmoji(emoticon='👍'), count=3, chosen_order=None), ReactionCount(reaction=ReactionEmoji(emoticon='🔥'), count=2, chosen_order=None)], min=False, can_see_list=False, reactions_as_tags=False, recent_reactions=[], top_reactors=[])\n",
            "--------------------------------------------------\n",
            "09.10.2025 07:50\n",
            "Просмотры: 88\n",
            "Реакции: MessageReactions(results=[ReactionCount(reaction=ReactionEmoji(emoticon='👍'), count=5, chosen_order=None), ReactionCount(reaction=ReactionEmoji(emoticon='❤'), count=4, chosen_order=None), ReactionCount(reaction=ReactionEmoji(emoticon='🔥'), count=3, chosen_order=None)], min=False, can_see_list=False, reactions_as_tags=False, recent_reactions=[], top_reactors=[])\n",
            "--------------------------------------------------\n",
            "08.10.2025 09:47\n",
            "Просмотры: 115\n",
            "Реакции: MessageReactions(results=[ReactionCount(reaction=ReactionEmoji(emoticon='❤'), count=3, chosen_order=None), ReactionCount(reaction=ReactionEmoji(emoticon='👍'), count=3, chosen_order=None), ReactionCount(reaction=ReactionEmoji(emoticon='🔥'), count=2, chosen_order=None)], min=False, can_see_list=False, reactions_as_tags=False, recent_reactions=[], top_reactors=[])\n",
            "--------------------------------------------------\n"
          ]
        }
      ]
    },
    {
      "cell_type": "code",
      "source": [
        "from telethon import TelegramClient\n",
        "from telethon.tl.functions.channels import GetFullChannelRequest\n",
        "import nest_asyncio"
      ],
      "metadata": {
        "id": "zz_qYa_ALxLy"
      },
      "execution_count": null,
      "outputs": []
    },
    {
      "cell_type": "code",
      "source": [
        "nest_asyncio.apply()"
      ],
      "metadata": {
        "id": "5u26F2fLL0Xd"
      },
      "execution_count": null,
      "outputs": []
    },
    {
      "cell_type": "code",
      "source": [
        "async def get_channel_subscribers():\n",
        "    client = TelegramClient('session_new_456', API_ID, API_HASH)\n",
        "    await client.start(PHONE_NUMBER)\n",
        "\n",
        "    channel = await client.get_entity(\"https://t.me/anicomix24\")\n",
        "\n",
        "    # Получаем полную информацию о канале\n",
        "    full_channel = await client(GetFullChannelRequest(channel=channel))\n",
        "\n",
        "    print(f\"Канал: {channel.title}\")\n",
        "    print(f\"Подписчики: {full_channel.full_chat.participants_count}\")\n",
        "\n",
        "    await client.disconnect()\n",
        "\n",
        "await get_channel_subscribers()"
      ],
      "metadata": {
        "colab": {
          "base_uri": "https://localhost:8080/"
        },
        "id": "K7ExKn9cLzFn",
        "outputId": "b9d04142-11a6-4b6f-8849-069e15636685"
      },
      "execution_count": null,
      "outputs": [
        {
          "output_type": "stream",
          "name": "stdout",
          "text": [
            "Канал: Культурный магазин АНИКОМИКС\n",
            "Подписчики: 150\n"
          ]
        }
      ]
    },
    {
      "cell_type": "code",
      "source": [
        "async def get_channel_subscribers():\n",
        "    client = TelegramClient('session_new_456', API_ID, API_HASH)\n",
        "    await client.start(PHONE_NUMBER)\n",
        "\n",
        "    channel = await client.get_entity(\"https://t.me/gifki\")\n",
        "\n",
        "    # Получаем полную информацию о канале\n",
        "    full_channel = await client(GetFullChannelRequest(channel=channel))\n",
        "\n",
        "    print(f\"Канал: {channel.title}\")\n",
        "    print(f\"Подписчики: {full_channel.full_chat.participants_count}\")\n",
        "\n",
        "    await client.disconnect()\n",
        "\n",
        "await get_channel_subscribers()"
      ],
      "metadata": {
        "colab": {
          "base_uri": "https://localhost:8080/"
        },
        "id": "hDk7ak0AMh3U",
        "outputId": "3bbc4165-0408-4a47-c0b1-020124dae529"
      },
      "execution_count": null,
      "outputs": [
        {
          "output_type": "stream",
          "name": "stdout",
          "text": [
            "Канал: Gifki\n",
            "Подписчики: 17082\n"
          ]
        }
      ]
    }
  ]
}